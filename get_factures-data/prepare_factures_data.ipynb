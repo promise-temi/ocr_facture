{
 "cells": [
  {
   "cell_type": "code",
   "execution_count": 18,
   "metadata": {},
   "outputs": [],
   "source": [
    "import pandas as pd"
   ]
  },
  {
   "cell_type": "code",
   "execution_count": 19,
   "metadata": {},
   "outputs": [],
   "source": [
    "# pd.read_csv('factures_data.csv')"
   ]
  },
  {
   "cell_type": "code",
   "execution_count": 24,
   "metadata": {},
   "outputs": [],
   "source": [
    "facture_data_brut = ['INVOICE FAC/2018/0009', 'Issue date 2018-12-06', 'Bill to Lisa Fisher', 'Email rhondaOz@example.net', 'Address 6673 Cook Skyway', 'West Jessica', 'PR 17982', 'Best but analysis glass.', '87', '58', 'Euro', 'Protect perform easy she.', '16 ', '97', 'Euro', 'Dinner other federal wind.', '19', '71', 'Euro', 'Current through debate everything', '64', '94', 'Euro', 'TOTAL', '705 .89', 'Euro', 'BJilllling']"
   ]
  },
  {
   "cell_type": "code",
   "execution_count": 33,
   "metadata": {},
   "outputs": [
    {
     "data": {
      "text/plain": [
       "{'id': 'INVOICE FAC/2018/0009',\n",
       " 'date': '2018-12-06',\n",
       " 'name': 'Lisa Fisher',\n",
       " 'email': 'rhondaOz@example.net',\n",
       " 'adress': '6673 Cook Skyway',\n",
       " 'city': 'West Jessica',\n",
       " 'postal_code': '17982',\n",
       " 'products': [['Best but analysis glass.', '87', '58'],\n",
       "  ['Protect perform easy she.', '16 ', '97'],\n",
       "  ['Dinner other federal wind.', '19', '71'],\n",
       "  ['Current through debate everything', '64', '94']],\n",
       " 'total': '705 .89'}"
      ]
     },
     "execution_count": 33,
     "metadata": {},
     "output_type": "execute_result"
    }
   ],
   "source": [
    "facture_data_brut = ['INVOICE FAC/2018/0009', 'Issue date 2018-12-06', 'Bill to Lisa Fisher', 'Email rhondaOz@example.net', 'Address 6673 Cook Skyway', 'West Jessica', 'PR 17982', 'Best but analysis glass.', '87', '58', 'Euro', 'Protect perform easy she.', '16 ', '97', 'Euro', 'Dinner other federal wind.', '19', '71', 'Euro', 'Current through debate everything', '64', '94', 'Euro', 'TOTAL', '705 .89', 'Euro', 'BJilllling']\n",
    "produits_brut = facture_data_brut[7:]\n",
    "produits_ranged = []\n",
    "produit_liste = []\n",
    "total_brut = []\n",
    "\n",
    "for produit in produits_brut:\n",
    "    if len(produit_liste) != 4:\n",
    "        produit_liste.append(produit)\n",
    "    else:\n",
    "        produits_ranged.append(produit_liste)\n",
    "        produit_liste.pop() #supprimer euro, le dernier element de ma liste\n",
    "        produit_liste = [produit]#mon dernier element est ignoré et pas mis dans la liste doc je l'ajoute directement\n",
    "if produit_liste:\n",
    "    total_brut.append(produit_liste)\n",
    "\n",
    "\n",
    "total_ranged = total_brut[0][1]\n",
    "facture_data_ranged = {\n",
    "    \"id\": facture_data_brut[0],\n",
    "    \"date\" : facture_data_brut[1][11:],\n",
    "    \"name\" : facture_data_brut[2][8:],\n",
    "    \"email\" : facture_data_brut[3][6:],\n",
    "    \"adress\" : facture_data_brut[4][8:],\n",
    "    \"city\" : facture_data_brut[5],\n",
    "    \"postal_code\" : facture_data_brut[6][3:],\n",
    "    \"products\" : produits_ranged,\n",
    "    \"total\" : total_ranged\n",
    "}\n",
    "facture_data_ranged\n"
   ]
  }
 ],
 "metadata": {
  "kernelspec": {
   "display_name": "venv",
   "language": "python",
   "name": "python3"
  },
  "language_info": {
   "codemirror_mode": {
    "name": "ipython",
    "version": 3
   },
   "file_extension": ".py",
   "mimetype": "text/x-python",
   "name": "python",
   "nbconvert_exporter": "python",
   "pygments_lexer": "ipython3",
   "version": "3.12.7"
  }
 },
 "nbformat": 4,
 "nbformat_minor": 2
}

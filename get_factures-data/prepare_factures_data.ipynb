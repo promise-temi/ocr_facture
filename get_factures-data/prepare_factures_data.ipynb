{
 "cells": [
  {
   "cell_type": "code",
   "execution_count": 18,
   "metadata": {},
   "outputs": [],
   "source": [
    "import pandas as pd"
   ]
  },
  {
   "cell_type": "code",
   "execution_count": 19,
   "metadata": {},
   "outputs": [],
   "source": [
    "# pd.read_csv('factures_data.csv')"
   ]
  },
  {
   "cell_type": "code",
   "execution_count": 1,
   "metadata": {},
   "outputs": [],
   "source": [
    "facture_data_brut = ['INVOICE FAC/2018/0001', 'Issue date 2018-10-13', 'Bill to Carol Potter', 'Email ashley38@example.org', 'Address 405 Adrian Crest Suite095', 'Jamesstad, MI 36094', 'Edge so crime share.', '12 _', 'Euro', 'Thank do article especially.', '67', '86', 'Euro', 'Include dinner main friend.', '287', '99', 'Euro', 'Capital hear morning people.', '55 .43', 'Euro', 'TOTAL', '1146 .84', 'Euro', 'BJilllling', '18']"
   ]
  },
  {
   "cell_type": "code",
   "execution_count": 6,
   "metadata": {},
   "outputs": [
    {
     "data": {
      "text/plain": [
       "{'id': 'INVOICE FAC/2018/0001',\n",
       " 'date': '2018-10-13',\n",
       " 'name': 'Carol Potter',\n",
       " 'email': 'ashley38@example.org',\n",
       " 'adress': '405 Adrian Crest Suite095',\n",
       " 'city': 'Jamesstad, MI 36094',\n",
       " 'postal_code': 'e so crime share.',\n",
       " 'products': [['12 _', 'Euro', 'Thank do article especially.'],\n",
       "  ['86', 'Euro', 'Include dinner main friend.'],\n",
       "  ['99', 'Euro', 'Capital hear morning people.'],\n",
       "  ['Euro', 'TOTAL', '1146 .84']],\n",
       " 'total': '18'}"
      ]
     },
     "execution_count": 6,
     "metadata": {},
     "output_type": "execute_result"
    }
   ],
   "source": [
    "facture_data_brut = ['INVOICE FAC/2018/0001', 'Issue date 2018-10-13', 'Bill to Carol Potter', 'Email ashley38@example.org', 'Address 405 Adrian Crest Suite095', 'Jamesstad, MI 36094', 'Edge so crime share.', '12 _', 'Euro', 'Thank do article especially.', '67', '86', 'Euro', 'Include dinner main friend.', '287', '99', 'Euro', 'Capital hear morning people.', '55 .43', 'Euro', 'TOTAL', '1146 .84', 'Euro', 'BJilllling', '18']\n",
    "produits_brut = facture_data_brut[7:]\n",
    "produits_ranged = []\n",
    "produit_liste = []\n",
    "total_brut = []\n",
    "\n",
    "for produit in produits_brut:\n",
    "    if len(produit_liste) != 4:\n",
    "        produit_liste.append(produit)\n",
    "    else:\n",
    "        produits_ranged.append(produit_liste)\n",
    "        produit_liste.pop() #supprimer euro, le dernier element de ma liste\n",
    "        produit_liste = [produit]#mon dernier element est ignoré et pas mis dans la liste doc je l'ajoute directement\n",
    "if produit_liste:\n",
    "    total_brut.append(produit_liste)\n",
    "\n",
    "\n",
    "total_ranged = total_brut[0][1]\n",
    "facture_data_ranged = {\n",
    "    \"id\": facture_data_brut[0],\n",
    "    \"date\" : facture_data_brut[1][11:],\n",
    "    \"name\" : facture_data_brut[2][8:],\n",
    "    \"email\" : facture_data_brut[3][6:],\n",
    "    \"adress\" : facture_data_brut[4][8:],\n",
    "    \"city\" : facture_data_brut[5],\n",
    "    \"postal_code\" : facture_data_brut[6][3:],\n",
    "    \"products\" : produits_ranged,\n",
    "    \"total\" : total_ranged\n",
    "}\n",
    "facture_data_ranged\n"
   ]
  }
 ],
 "metadata": {
  "kernelspec": {
   "display_name": "venv",
   "language": "python",
   "name": "python3"
  },
  "language_info": {
   "codemirror_mode": {
    "name": "ipython",
    "version": 3
   },
   "file_extension": ".py",
   "mimetype": "text/x-python",
   "name": "python",
   "nbconvert_exporter": "python",
   "pygments_lexer": "ipython3",
   "version": "3.12.7"
  }
 },
 "nbformat": 4,
 "nbformat_minor": 2
}
